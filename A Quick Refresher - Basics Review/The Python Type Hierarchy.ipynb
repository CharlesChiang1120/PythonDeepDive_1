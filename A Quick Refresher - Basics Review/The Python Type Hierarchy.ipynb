{
 "cells": [
  {
   "cell_type": "markdown",
   "id": "16531700-ff30-4fdb-8bd0-73cb67311736",
   "metadata": {},
   "source": [
    "### Numbers\n",
    "\n",
    "| Category       | Type               |\n",
    "| -------------- | ---------------------- |\n",
    "| **Integral**   | `Integers`, `Booleans`          |\n",
    "| **Non-integral** | `Floats`, `Complex` , `Decimals`, `Fractions`    |"
   ]
  },
  {
   "cell_type": "markdown",
   "id": "299e5202-3b4a-4bb7-ae88-b90b1dd7057a",
   "metadata": {},
   "source": [
    "### Collections\n",
    "\n",
    "| Category       | Mutable/ Immutable                    | Type               |\n",
    "| -------------- | ------------------------------- | ---------------------- |\n",
    "| **Sequence**   | Mutable                         | `Lists`         |\n",
    "| **Sequence**   | Immutable                       | `Tuples`, `Strings`         |\n",
    "| **Sets** | Mutable  | `Sets`    |\n",
    "| **Sets** | Immutable  | `Frozen Sets`    |\n",
    "| **Mappings** |   | `Dictionaries`    |"
   ]
  },
  {
   "cell_type": "markdown",
   "id": "6b9953a8-f634-4ece-b7af-6dce1dc8f44d",
   "metadata": {},
   "source": [
    "### Collables\n",
    "\n",
    "- User-Defined Functions\n",
    "- Generators\n",
    "- Classes\n",
    "- Instance Methods\n",
    "- Class instance (`__call__()`)\n",
    "- Build-in Funcations (e.g. len(), open())\n",
    "- Build-in Methods (e.g. my_list.append(x))"
   ]
  },
  {
   "cell_type": "markdown",
   "id": "9638f1c8-d571-4964-a725-4106341a3638",
   "metadata": {},
   "source": [
    "### Singletons\n",
    "\n",
    "- None\n",
    "- NotImplemented\n",
    "- Ellipsis(...)"
   ]
  },
  {
   "cell_type": "code",
   "execution_count": null,
   "id": "8f43e6eb-80e9-4330-ac2f-55349aee188c",
   "metadata": {},
   "outputs": [],
   "source": []
  }
 ],
 "metadata": {
  "kernelspec": {
   "display_name": "Python 3 (ipykernel)",
   "language": "python",
   "name": "python3"
  },
  "language_info": {
   "codemirror_mode": {
    "name": "ipython",
    "version": 3
   },
   "file_extension": ".py",
   "mimetype": "text/x-python",
   "name": "python",
   "nbconvert_exporter": "python",
   "pygments_lexer": "ipython3",
   "version": "3.11.6"
  }
 },
 "nbformat": 4,
 "nbformat_minor": 5
}
